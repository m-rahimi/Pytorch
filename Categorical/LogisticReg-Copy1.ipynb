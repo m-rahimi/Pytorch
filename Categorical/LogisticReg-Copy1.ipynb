{
 "cells": [
  {
   "cell_type": "code",
   "execution_count": 1,
   "metadata": {},
   "outputs": [],
   "source": [
    "import pandas as pd\n",
    "import numpy as np\n",
    "from sklearn.model_selection import train_test_split, cross_val_score, StratifiedKFold\n",
    "import scipy\n",
    "from sklearn.linear_model import LogisticRegression"
   ]
  },
  {
   "cell_type": "code",
   "execution_count": 2,
   "metadata": {},
   "outputs": [
    {
     "data": {
      "text/html": [
       "<div>\n",
       "<style scoped>\n",
       "    .dataframe tbody tr th:only-of-type {\n",
       "        vertical-align: middle;\n",
       "    }\n",
       "\n",
       "    .dataframe tbody tr th {\n",
       "        vertical-align: top;\n",
       "    }\n",
       "\n",
       "    .dataframe thead th {\n",
       "        text-align: right;\n",
       "    }\n",
       "</style>\n",
       "<table border=\"1\" class=\"dataframe\">\n",
       "  <thead>\n",
       "    <tr style=\"text-align: right;\">\n",
       "      <th></th>\n",
       "      <th>bin_0</th>\n",
       "      <th>bin_1</th>\n",
       "      <th>bin_2</th>\n",
       "      <th>bin_3</th>\n",
       "      <th>bin_4</th>\n",
       "      <th>nom_0</th>\n",
       "      <th>nom_1</th>\n",
       "      <th>nom_2</th>\n",
       "      <th>nom_3</th>\n",
       "      <th>nom_4</th>\n",
       "      <th>...</th>\n",
       "      <th>nom_8</th>\n",
       "      <th>nom_9</th>\n",
       "      <th>ord_0</th>\n",
       "      <th>ord_1</th>\n",
       "      <th>ord_2</th>\n",
       "      <th>ord_3</th>\n",
       "      <th>ord_4</th>\n",
       "      <th>ord_5</th>\n",
       "      <th>day</th>\n",
       "      <th>month</th>\n",
       "    </tr>\n",
       "  </thead>\n",
       "  <tbody>\n",
       "    <tr>\n",
       "      <th>0</th>\n",
       "      <td>0</td>\n",
       "      <td>0</td>\n",
       "      <td>0</td>\n",
       "      <td>T</td>\n",
       "      <td>Y</td>\n",
       "      <td>Green</td>\n",
       "      <td>Triangle</td>\n",
       "      <td>Snake</td>\n",
       "      <td>Finland</td>\n",
       "      <td>Bassoon</td>\n",
       "      <td>...</td>\n",
       "      <td>c389000ab</td>\n",
       "      <td>2f4cb3d51</td>\n",
       "      <td>2</td>\n",
       "      <td>Grandmaster</td>\n",
       "      <td>Cold</td>\n",
       "      <td>h</td>\n",
       "      <td>D</td>\n",
       "      <td>kr</td>\n",
       "      <td>2</td>\n",
       "      <td>2</td>\n",
       "    </tr>\n",
       "    <tr>\n",
       "      <th>1</th>\n",
       "      <td>0</td>\n",
       "      <td>1</td>\n",
       "      <td>0</td>\n",
       "      <td>T</td>\n",
       "      <td>Y</td>\n",
       "      <td>Green</td>\n",
       "      <td>Trapezoid</td>\n",
       "      <td>Hamster</td>\n",
       "      <td>Russia</td>\n",
       "      <td>Piano</td>\n",
       "      <td>...</td>\n",
       "      <td>4cd920251</td>\n",
       "      <td>f83c56c21</td>\n",
       "      <td>1</td>\n",
       "      <td>Grandmaster</td>\n",
       "      <td>Hot</td>\n",
       "      <td>a</td>\n",
       "      <td>A</td>\n",
       "      <td>bF</td>\n",
       "      <td>7</td>\n",
       "      <td>8</td>\n",
       "    </tr>\n",
       "    <tr>\n",
       "      <th>2</th>\n",
       "      <td>0</td>\n",
       "      <td>0</td>\n",
       "      <td>0</td>\n",
       "      <td>F</td>\n",
       "      <td>Y</td>\n",
       "      <td>Blue</td>\n",
       "      <td>Trapezoid</td>\n",
       "      <td>Lion</td>\n",
       "      <td>Russia</td>\n",
       "      <td>Theremin</td>\n",
       "      <td>...</td>\n",
       "      <td>de9c9f684</td>\n",
       "      <td>ae6800dd0</td>\n",
       "      <td>1</td>\n",
       "      <td>Expert</td>\n",
       "      <td>Lava Hot</td>\n",
       "      <td>h</td>\n",
       "      <td>R</td>\n",
       "      <td>Jc</td>\n",
       "      <td>7</td>\n",
       "      <td>2</td>\n",
       "    </tr>\n",
       "    <tr>\n",
       "      <th>3</th>\n",
       "      <td>0</td>\n",
       "      <td>1</td>\n",
       "      <td>0</td>\n",
       "      <td>F</td>\n",
       "      <td>Y</td>\n",
       "      <td>Red</td>\n",
       "      <td>Trapezoid</td>\n",
       "      <td>Snake</td>\n",
       "      <td>Canada</td>\n",
       "      <td>Oboe</td>\n",
       "      <td>...</td>\n",
       "      <td>4ade6ab69</td>\n",
       "      <td>8270f0d71</td>\n",
       "      <td>1</td>\n",
       "      <td>Grandmaster</td>\n",
       "      <td>Boiling Hot</td>\n",
       "      <td>i</td>\n",
       "      <td>D</td>\n",
       "      <td>kW</td>\n",
       "      <td>2</td>\n",
       "      <td>1</td>\n",
       "    </tr>\n",
       "    <tr>\n",
       "      <th>4</th>\n",
       "      <td>0</td>\n",
       "      <td>0</td>\n",
       "      <td>0</td>\n",
       "      <td>F</td>\n",
       "      <td>N</td>\n",
       "      <td>Red</td>\n",
       "      <td>Trapezoid</td>\n",
       "      <td>Lion</td>\n",
       "      <td>Canada</td>\n",
       "      <td>Oboe</td>\n",
       "      <td>...</td>\n",
       "      <td>cb43ab175</td>\n",
       "      <td>b164b72a7</td>\n",
       "      <td>1</td>\n",
       "      <td>Grandmaster</td>\n",
       "      <td>Freezing</td>\n",
       "      <td>a</td>\n",
       "      <td>R</td>\n",
       "      <td>qP</td>\n",
       "      <td>7</td>\n",
       "      <td>8</td>\n",
       "    </tr>\n",
       "  </tbody>\n",
       "</table>\n",
       "<p>5 rows × 23 columns</p>\n",
       "</div>"
      ],
      "text/plain": [
       "   bin_0  bin_1  bin_2 bin_3 bin_4  nom_0      nom_1    nom_2    nom_3  \\\n",
       "0      0      0      0     T     Y  Green   Triangle    Snake  Finland   \n",
       "1      0      1      0     T     Y  Green  Trapezoid  Hamster   Russia   \n",
       "2      0      0      0     F     Y   Blue  Trapezoid     Lion   Russia   \n",
       "3      0      1      0     F     Y    Red  Trapezoid    Snake   Canada   \n",
       "4      0      0      0     F     N    Red  Trapezoid     Lion   Canada   \n",
       "\n",
       "      nom_4  ...      nom_8      nom_9 ord_0        ord_1        ord_2  ord_3  \\\n",
       "0   Bassoon  ...  c389000ab  2f4cb3d51     2  Grandmaster         Cold      h   \n",
       "1     Piano  ...  4cd920251  f83c56c21     1  Grandmaster          Hot      a   \n",
       "2  Theremin  ...  de9c9f684  ae6800dd0     1       Expert     Lava Hot      h   \n",
       "3      Oboe  ...  4ade6ab69  8270f0d71     1  Grandmaster  Boiling Hot      i   \n",
       "4      Oboe  ...  cb43ab175  b164b72a7     1  Grandmaster     Freezing      a   \n",
       "\n",
       "  ord_4 ord_5 day month  \n",
       "0     D    kr   2     2  \n",
       "1     A    bF   7     8  \n",
       "2     R    Jc   7     2  \n",
       "3     D    kW   2     1  \n",
       "4     R    qP   7     8  \n",
       "\n",
       "[5 rows x 23 columns]"
      ]
     },
     "execution_count": 2,
     "metadata": {},
     "output_type": "execute_result"
    }
   ],
   "source": [
    "df = pd.read_csv('../Data/cat.csv')\n",
    "df = df.drop('id', axis=1)\n",
    "\n",
    "dtarget = df['target']\n",
    "df = df.drop('target', axis=1)\n",
    "\n",
    "df.head()"
   ]
  },
  {
   "cell_type": "code",
   "execution_count": 3,
   "metadata": {},
   "outputs": [],
   "source": [
    "dt = pd.get_dummies(df, columns=df.columns, sparse=True)\n",
    "dt = dt.sparse.to_coo()\n",
    "dt = dt.tocsr()"
   ]
  },
  {
   "cell_type": "code",
   "execution_count": 4,
   "metadata": {},
   "outputs": [],
   "source": [
    "size = 0.8\n",
    "np.random.seed(123)\n",
    "ids = np.random.rand(dt.shape[0]) < size #list(np.where(np.random.rand(dt.shape[0]) < size)[0])\n",
    "\n",
    "x = dt[ids]; y = dtarget[ids]\n",
    "x_val = dt[~ids]; y_val = dtarget[~ids]"
   ]
  },
  {
   "cell_type": "code",
   "execution_count": 5,
   "metadata": {},
   "outputs": [
    {
     "data": {
      "text/plain": [
       "LogisticRegression(C=0.1, class_weight='balanced', dual=False,\n",
       "                   fit_intercept=True, intercept_scaling=1, l1_ratio=None,\n",
       "                   max_iter=10000, multi_class='warn', n_jobs=-1, penalty='l2',\n",
       "                   random_state=None, solver='lbfgs', tol=0.0001, verbose=0,\n",
       "                   warm_start=False)"
      ]
     },
     "execution_count": 5,
     "metadata": {},
     "output_type": "execute_result"
    }
   ],
   "source": [
    "model = LogisticRegression(C=0.1, class_weight='balanced',max_iter=10000, solver='lbfgs', n_jobs=-1)\n",
    "model.fit(x, y)"
   ]
  },
  {
   "cell_type": "code",
   "execution_count": 6,
   "metadata": {},
   "outputs": [
    {
     "name": "stdout",
     "output_type": "stream",
     "text": [
      "0.8287054629090679\n"
     ]
    },
    {
     "data": {
      "text/plain": [
       "0.8056458162869101"
      ]
     },
     "execution_count": 6,
     "metadata": {},
     "output_type": "execute_result"
    }
   ],
   "source": [
    "from sklearn import metrics\n",
    "\n",
    "pred = model.predict_proba(x)\n",
    "print(metrics.roc_auc_score(y, pred[:,1]))\n",
    "\n",
    "pred1 = model.predict_proba(x_val)\n",
    "metrics.roc_auc_score(y_val, pred1[:,1])"
   ]
  },
  {
   "cell_type": "code",
   "execution_count": 7,
   "metadata": {},
   "outputs": [
    {
     "data": {
      "text/plain": [
       "(300000, 16461)"
      ]
     },
     "execution_count": 7,
     "metadata": {},
     "output_type": "execute_result"
    }
   ],
   "source": [
    "dt.shape"
   ]
  },
  {
   "cell_type": "markdown",
   "metadata": {},
   "source": [
    "## using mean"
   ]
  },
  {
   "cell_type": "code",
   "execution_count": 88,
   "metadata": {},
   "outputs": [],
   "source": [
    "df = pd.read_csv('../Data/cat.csv')\n",
    "df = df.drop('id', axis=1)\n",
    "dtarget = df['target']"
   ]
  },
  {
   "cell_type": "code",
   "execution_count": 89,
   "metadata": {},
   "outputs": [
    {
     "data": {
      "text/plain": [
       "{0: 261749, 1: 38251}"
      ]
     },
     "execution_count": 89,
     "metadata": {},
     "output_type": "execute_result"
    }
   ],
   "source": [
    "df['bin_0'].value_counts().to_dict()"
   ]
  },
  {
   "cell_type": "code",
   "execution_count": 90,
   "metadata": {},
   "outputs": [],
   "source": [
    "tmean = dtarget.mean()"
   ]
  },
  {
   "cell_type": "code",
   "execution_count": 91,
   "metadata": {},
   "outputs": [],
   "source": [
    "size = 0.8\n",
    "np.random.seed(123)\n",
    "ids = np.random.rand(df.shape[0]) < size #list(np.where(np.random.rand(dt.shape[0]) < size)[0])\n",
    "\n",
    "x = df[ids]; y = dtarget[ids]\n",
    "x_val = df[~ids]; y_val = dtarget[~ids]"
   ]
  },
  {
   "cell_type": "code",
   "execution_count": 92,
   "metadata": {},
   "outputs": [],
   "source": [
    "for col in df.columns:\n",
    "    if col != 'target':\n",
    "        dic = x.groupby(col)['target'].mean().to_dict()\n",
    "        df[col+'_mean'] = df[col].map(dic).fillna(tmean)\n",
    "        \n",
    "        dic = x[col].value_counts().to_dict()\n",
    "        df[col+'_freq'] = df[col].map(dic).fillna(0)\n",
    "        df = df.drop(col, axis=1)"
   ]
  },
  {
   "cell_type": "code",
   "execution_count": 93,
   "metadata": {},
   "outputs": [
    {
     "data": {
      "text/html": [
       "<div>\n",
       "<style scoped>\n",
       "    .dataframe tbody tr th:only-of-type {\n",
       "        vertical-align: middle;\n",
       "    }\n",
       "\n",
       "    .dataframe tbody tr th {\n",
       "        vertical-align: top;\n",
       "    }\n",
       "\n",
       "    .dataframe thead th {\n",
       "        text-align: right;\n",
       "    }\n",
       "</style>\n",
       "<table border=\"1\" class=\"dataframe\">\n",
       "  <thead>\n",
       "    <tr style=\"text-align: right;\">\n",
       "      <th></th>\n",
       "      <th>bin_0_mean</th>\n",
       "      <th>bin_0_freq</th>\n",
       "      <th>bin_1_mean</th>\n",
       "      <th>bin_1_freq</th>\n",
       "      <th>bin_2_mean</th>\n",
       "      <th>bin_2_freq</th>\n",
       "      <th>bin_3_mean</th>\n",
       "      <th>bin_3_freq</th>\n",
       "      <th>bin_4_mean</th>\n",
       "      <th>bin_4_freq</th>\n",
       "      <th>...</th>\n",
       "      <th>ord_3_mean</th>\n",
       "      <th>ord_3_freq</th>\n",
       "      <th>ord_4_mean</th>\n",
       "      <th>ord_4_freq</th>\n",
       "      <th>ord_5_mean</th>\n",
       "      <th>ord_5_freq</th>\n",
       "      <th>day_mean</th>\n",
       "      <th>day_freq</th>\n",
       "      <th>month_mean</th>\n",
       "      <th>month_freq</th>\n",
       "    </tr>\n",
       "  </thead>\n",
       "  <tbody>\n",
       "    <tr>\n",
       "      <th>0</th>\n",
       "      <td>0.305453</td>\n",
       "      <td>209505</td>\n",
       "      <td>0.329854</td>\n",
       "      <td>178476</td>\n",
       "      <td>0.301051</td>\n",
       "      <td>148015</td>\n",
       "      <td>0.302373</td>\n",
       "      <td>122954</td>\n",
       "      <td>0.290077</td>\n",
       "      <td>153318</td>\n",
       "      <td>...</td>\n",
       "      <td>0.305426</td>\n",
       "      <td>19756</td>\n",
       "      <td>0.208690</td>\n",
       "      <td>3153</td>\n",
       "      <td>0.398533</td>\n",
       "      <td>409</td>\n",
       "      <td>0.32222</td>\n",
       "      <td>59506</td>\n",
       "      <td>0.245566</td>\n",
       "      <td>36369</td>\n",
       "    </tr>\n",
       "    <tr>\n",
       "      <th>1</th>\n",
       "      <td>0.305453</td>\n",
       "      <td>209505</td>\n",
       "      <td>0.235951</td>\n",
       "      <td>61623</td>\n",
       "      <td>0.301051</td>\n",
       "      <td>148015</td>\n",
       "      <td>0.302373</td>\n",
       "      <td>122954</td>\n",
       "      <td>0.290077</td>\n",
       "      <td>153318</td>\n",
       "      <td>...</td>\n",
       "      <td>0.206688</td>\n",
       "      <td>28139</td>\n",
       "      <td>0.187428</td>\n",
       "      <td>14683</td>\n",
       "      <td>0.309443</td>\n",
       "      <td>2065</td>\n",
       "      <td>0.33702</td>\n",
       "      <td>26399</td>\n",
       "      <td>0.328455</td>\n",
       "      <td>15031</td>\n",
       "    </tr>\n",
       "    <tr>\n",
       "      <th>2</th>\n",
       "      <td>0.305453</td>\n",
       "      <td>209505</td>\n",
       "      <td>0.329854</td>\n",
       "      <td>178476</td>\n",
       "      <td>0.301051</td>\n",
       "      <td>148015</td>\n",
       "      <td>0.309300</td>\n",
       "      <td>117145</td>\n",
       "      <td>0.290077</td>\n",
       "      <td>153318</td>\n",
       "      <td>...</td>\n",
       "      <td>0.305426</td>\n",
       "      <td>19756</td>\n",
       "      <td>0.351198</td>\n",
       "      <td>13565</td>\n",
       "      <td>0.203438</td>\n",
       "      <td>2094</td>\n",
       "      <td>0.33702</td>\n",
       "      <td>26399</td>\n",
       "      <td>0.245566</td>\n",
       "      <td>36369</td>\n",
       "    </tr>\n",
       "    <tr>\n",
       "      <th>3</th>\n",
       "      <td>0.305453</td>\n",
       "      <td>209505</td>\n",
       "      <td>0.235951</td>\n",
       "      <td>61623</td>\n",
       "      <td>0.301051</td>\n",
       "      <td>148015</td>\n",
       "      <td>0.309300</td>\n",
       "      <td>117145</td>\n",
       "      <td>0.290077</td>\n",
       "      <td>153318</td>\n",
       "      <td>...</td>\n",
       "      <td>0.331388</td>\n",
       "      <td>22442</td>\n",
       "      <td>0.208690</td>\n",
       "      <td>3153</td>\n",
       "      <td>0.349802</td>\n",
       "      <td>2024</td>\n",
       "      <td>0.32222</td>\n",
       "      <td>59506</td>\n",
       "      <td>0.255428</td>\n",
       "      <td>32698</td>\n",
       "    </tr>\n",
       "    <tr>\n",
       "      <th>4</th>\n",
       "      <td>0.305453</td>\n",
       "      <td>209505</td>\n",
       "      <td>0.329854</td>\n",
       "      <td>178476</td>\n",
       "      <td>0.301051</td>\n",
       "      <td>148015</td>\n",
       "      <td>0.309300</td>\n",
       "      <td>117145</td>\n",
       "      <td>0.333449</td>\n",
       "      <td>86781</td>\n",
       "      <td>...</td>\n",
       "      <td>0.206688</td>\n",
       "      <td>28139</td>\n",
       "      <td>0.351198</td>\n",
       "      <td>13565</td>\n",
       "      <td>0.402893</td>\n",
       "      <td>2281</td>\n",
       "      <td>0.33702</td>\n",
       "      <td>26399</td>\n",
       "      <td>0.328455</td>\n",
       "      <td>15031</td>\n",
       "    </tr>\n",
       "  </tbody>\n",
       "</table>\n",
       "<p>5 rows × 46 columns</p>\n",
       "</div>"
      ],
      "text/plain": [
       "   bin_0_mean  bin_0_freq  bin_1_mean  bin_1_freq  bin_2_mean  bin_2_freq  \\\n",
       "0    0.305453      209505    0.329854      178476    0.301051      148015   \n",
       "1    0.305453      209505    0.235951       61623    0.301051      148015   \n",
       "2    0.305453      209505    0.329854      178476    0.301051      148015   \n",
       "3    0.305453      209505    0.235951       61623    0.301051      148015   \n",
       "4    0.305453      209505    0.329854      178476    0.301051      148015   \n",
       "\n",
       "   bin_3_mean  bin_3_freq  bin_4_mean  bin_4_freq  ...  ord_3_mean  \\\n",
       "0    0.302373      122954    0.290077      153318  ...    0.305426   \n",
       "1    0.302373      122954    0.290077      153318  ...    0.206688   \n",
       "2    0.309300      117145    0.290077      153318  ...    0.305426   \n",
       "3    0.309300      117145    0.290077      153318  ...    0.331388   \n",
       "4    0.309300      117145    0.333449       86781  ...    0.206688   \n",
       "\n",
       "   ord_3_freq  ord_4_mean  ord_4_freq  ord_5_mean  ord_5_freq  day_mean  \\\n",
       "0       19756    0.208690        3153    0.398533         409   0.32222   \n",
       "1       28139    0.187428       14683    0.309443        2065   0.33702   \n",
       "2       19756    0.351198       13565    0.203438        2094   0.33702   \n",
       "3       22442    0.208690        3153    0.349802        2024   0.32222   \n",
       "4       28139    0.351198       13565    0.402893        2281   0.33702   \n",
       "\n",
       "   day_freq  month_mean  month_freq  \n",
       "0     59506    0.245566       36369  \n",
       "1     26399    0.328455       15031  \n",
       "2     26399    0.245566       36369  \n",
       "3     59506    0.255428       32698  \n",
       "4     26399    0.328455       15031  \n",
       "\n",
       "[5 rows x 46 columns]"
      ]
     },
     "execution_count": 93,
     "metadata": {},
     "output_type": "execute_result"
    }
   ],
   "source": [
    "dtarget = df['target']\n",
    "df = df.drop('target', axis=1)\n",
    "\n",
    "df.head()"
   ]
  },
  {
   "cell_type": "code",
   "execution_count": 94,
   "metadata": {},
   "outputs": [],
   "source": [
    "x = df[ids]; y = dtarget[ids]\n",
    "x_val = df[~ids]; y_val = dtarget[~ids]"
   ]
  },
  {
   "cell_type": "code",
   "execution_count": 95,
   "metadata": {},
   "outputs": [
    {
     "data": {
      "text/plain": [
       "LogisticRegression(C=1.15, class_weight='balanced', dual=False,\n",
       "                   fit_intercept=True, intercept_scaling=1, l1_ratio=None,\n",
       "                   max_iter=10000, multi_class='warn', n_jobs=-1, penalty='l2',\n",
       "                   random_state=None, solver='lbfgs', tol=0.0001, verbose=0,\n",
       "                   warm_start=False)"
      ]
     },
     "execution_count": 95,
     "metadata": {},
     "output_type": "execute_result"
    }
   ],
   "source": [
    "model = LogisticRegression(C=1.15, class_weight='balanced',max_iter=10000, solver='lbfgs', n_jobs=-1)\n",
    "model.fit(x, y)"
   ]
  },
  {
   "cell_type": "code",
   "execution_count": 96,
   "metadata": {},
   "outputs": [
    {
     "name": "stdout",
     "output_type": "stream",
     "text": [
      "0.6187921283858832\n"
     ]
    },
    {
     "data": {
      "text/plain": [
       "0.6188580596527632"
      ]
     },
     "execution_count": 96,
     "metadata": {},
     "output_type": "execute_result"
    }
   ],
   "source": [
    "pred = model.predict_proba(x)\n",
    "print(metrics.roc_auc_score(y, pred[:,1]))\n",
    "\n",
    "pred1 = model.predict_proba(x_val)\n",
    "metrics.roc_auc_score(y_val, pred1[:,1])"
   ]
  },
  {
   "cell_type": "code",
   "execution_count": null,
   "metadata": {},
   "outputs": [],
   "source": []
  },
  {
   "cell_type": "code",
   "execution_count": 72,
   "metadata": {},
   "outputs": [
    {
     "name": "stdout",
     "output_type": "stream",
     "text": [
      "0.8372951032152506\n"
     ]
    },
    {
     "data": {
      "text/plain": [
       "0.7829225032227042"
      ]
     },
     "execution_count": 72,
     "metadata": {},
     "output_type": "execute_result"
    }
   ],
   "source": [
    "pred = model.predict_proba(x)\n",
    "print(metrics.roc_auc_score(y, pred[:,1]))\n",
    "\n",
    "pred1 = model.predict_proba(x_val)\n",
    "metrics.roc_auc_score(y_val, pred1[:,1])"
   ]
  },
  {
   "cell_type": "markdown",
   "metadata": {},
   "source": [
    "## reduce cardinality"
   ]
  },
  {
   "cell_type": "code",
   "execution_count": 8,
   "metadata": {},
   "outputs": [
    {
     "data": {
      "text/plain": [
       "array(['2f4cb3d51', 'f83c56c21', 'ae6800dd0', ..., 'c9751f01d',\n",
       "       '3b51e3e0d', 'e05e4c676'], dtype=object)"
      ]
     },
     "execution_count": 8,
     "metadata": {},
     "output_type": "execute_result"
    }
   ],
   "source": [
    "df['nom_9'].unique()"
   ]
  },
  {
   "cell_type": "code",
   "execution_count": 73,
   "metadata": {},
   "outputs": [],
   "source": [
    "def reduce_cardinality(dx, threshold = 10):\n",
    "    dens = dx.value_counts()\n",
    "    rare = dens[dens < threshold].index\n",
    "    dx.loc[dx.isin(rare)] = 'XX'\n",
    "    return dx\n",
    "\n",
    "df['nom_9'] = reduce_cardinality(df['nom_9'].copy())\n",
    "df['nom_8'] = reduce_cardinality(df['nom_8'].copy())\n",
    "df['nom_7'] = reduce_cardinality(df['nom_7'].copy())\n",
    "df['nom_6'] = reduce_cardinality(df['nom_6'].copy())"
   ]
  },
  {
   "cell_type": "code",
   "execution_count": 74,
   "metadata": {},
   "outputs": [],
   "source": [
    "dt = pd.get_dummies(df, columns=df.columns, sparse=True)\n",
    "dt = dt.sparse.to_coo()\n",
    "dt = dt.tocsr()"
   ]
  },
  {
   "cell_type": "code",
   "execution_count": 75,
   "metadata": {},
   "outputs": [],
   "source": [
    "size = 0.8\n",
    "np.random.seed(123)\n",
    "ids = np.random.rand(dt.shape[0]) < size #list(np.where(np.random.rand(dt.shape[0]) < size)[0])\n",
    "\n",
    "x = dt[ids]; y = dtarget[ids]\n",
    "x_val = dt[~ids]; y_val = dtarget[~ids]"
   ]
  },
  {
   "cell_type": "code",
   "execution_count": 76,
   "metadata": {},
   "outputs": [
    {
     "data": {
      "text/plain": [
       "LogisticRegression(C=0.1, class_weight='balanced', dual=False,\n",
       "                   fit_intercept=True, intercept_scaling=1, l1_ratio=None,\n",
       "                   max_iter=10000, multi_class='warn', n_jobs=-1, penalty='l2',\n",
       "                   random_state=None, solver='lbfgs', tol=0.0001, verbose=0,\n",
       "                   warm_start=False)"
      ]
     },
     "execution_count": 76,
     "metadata": {},
     "output_type": "execute_result"
    }
   ],
   "source": [
    "model = LogisticRegression(C=0.1, class_weight='balanced',max_iter=10000, solver='lbfgs', n_jobs=-1)\n",
    "model.fit(x, y)"
   ]
  },
  {
   "cell_type": "code",
   "execution_count": 77,
   "metadata": {},
   "outputs": [
    {
     "name": "stdout",
     "output_type": "stream",
     "text": [
      "0.8280583565980837\n"
     ]
    },
    {
     "data": {
      "text/plain": [
       "0.8055775816342357"
      ]
     },
     "execution_count": 77,
     "metadata": {},
     "output_type": "execute_result"
    }
   ],
   "source": [
    "pred = model.predict_proba(x)\n",
    "print(metrics.roc_auc_score(y, pred[:,1]))\n",
    "\n",
    "pred1 = model.predict_proba(x_val)\n",
    "metrics.roc_auc_score(y_val, pred1[:,1])"
   ]
  },
  {
   "cell_type": "markdown",
   "metadata": {},
   "source": [
    "## Pytorch Logistic Regression"
   ]
  },
  {
   "cell_type": "code",
   "execution_count": 78,
   "metadata": {},
   "outputs": [],
   "source": [
    "import torch\n",
    "import torch.nn as nn"
   ]
  },
  {
   "cell_type": "code",
   "execution_count": 81,
   "metadata": {},
   "outputs": [],
   "source": [
    "dt = pd.get_dummies(df, columns=df.columns, sparse=True)\n",
    "\n",
    "size = 0.8\n",
    "np.random.seed(123)\n",
    "ids = np.random.rand(dt.shape[0]) < size #list(np.where(np.random.rand(dt.shape[0]) < size)[0])\n",
    "\n",
    "x = dt[ids]; y = dtarget[ids]\n",
    "x_val = dt[~ids]; y_val = dtarget[~ids]"
   ]
  },
  {
   "cell_type": "code",
   "execution_count": 82,
   "metadata": {},
   "outputs": [],
   "source": [
    "Tx = torch.from_numpy(x.values.astype(np.float32))\n",
    "Ty = torch.from_numpy(y.values.astype(np.int64)).flatten() \n",
    "\n",
    "Tx_val = torch.from_numpy(x_val.values.astype(np.float32))\n",
    "Ty_val = torch.from_numpy(y_val.values.astype(np.int64)).flatten()"
   ]
  },
  {
   "cell_type": "code",
   "execution_count": 83,
   "metadata": {},
   "outputs": [],
   "source": [
    "class LogisticRegression(torch.nn.Module):\n",
    "    def __init__(self, input_dim, output_dim):\n",
    "        super(LogisticRegression, self).__init__()\n",
    "        self.linear = torch.nn.Linear(input_dim, output_dim)\n",
    "\n",
    "    def forward(self, x):\n",
    "        outputs = self.linear(x)\n",
    "        return outputs"
   ]
  },
  {
   "cell_type": "code",
   "execution_count": 84,
   "metadata": {},
   "outputs": [],
   "source": [
    "criterion = torch.nn.CrossEntropyLoss() # computes softmax and then the cross entropy\n",
    "\n",
    "model = LogisticRegression(x.shape[1], 2)\n",
    "optimizer = torch.optim.SGD(model.parameters(), lr=0.1, weight_decay=0.1)"
   ]
  },
  {
   "cell_type": "code",
   "execution_count": 85,
   "metadata": {},
   "outputs": [
    {
     "name": "stdout",
     "output_type": "stream",
     "text": [
      "0.692625880241394 0.5078295693234837 0.5875284738139583\n",
      "0.572114884853363 0.720425540962504 0.7220823107227965\n",
      "0.5672004818916321 0.7255754476160837 0.7273202609337392\n",
      "0.5662215948104858 0.7271822320309087 0.7289426853362461\n",
      "0.5659962892532349 0.7276765990825306 0.7294375298411035\n",
      "0.565934956073761 0.7278289508610114 0.7295882057923447\n",
      "0.5659157633781433 0.7278763927322205 0.7296347718019768\n",
      "0.5659096837043762 0.7278913700144309 0.7296497200576033\n",
      "0.5659077167510986 0.7278961976511148 0.729654237910008\n",
      "0.5659071803092957 0.7278978009385585 0.7296558155519361\n"
     ]
    }
   ],
   "source": [
    "epochs = 1000\n",
    "for i in range(epochs):\n",
    "    \n",
    "    pred = model(Tx)\n",
    "    loss = criterion(pred, Ty)\n",
    "    \n",
    "    optimizer.zero_grad()\n",
    "    loss.backward()\n",
    "    optimizer.step()\n",
    "    \n",
    "    if i%100==0:\n",
    "        with torch.set_grad_enabled(False):\n",
    "            auc_train = metrics.roc_auc_score(y, torch.nn.functional.softmax(pred, dim=1).data.numpy()[:,1])\n",
    "\n",
    "            pred_val = model(Tx_val)\n",
    "            auc_val = metrics.roc_auc_score(y_val, torch.nn.functional.softmax(pred_val, dim=1).data.numpy()[:,1])\n",
    "            print(loss.item(), auc_train, auc_val)"
   ]
  },
  {
   "cell_type": "code",
   "execution_count": null,
   "metadata": {},
   "outputs": [],
   "source": []
  },
  {
   "cell_type": "code",
   "execution_count": null,
   "metadata": {},
   "outputs": [],
   "source": []
  },
  {
   "cell_type": "code",
   "execution_count": null,
   "metadata": {},
   "outputs": [],
   "source": []
  },
  {
   "cell_type": "code",
   "execution_count": null,
   "metadata": {},
   "outputs": [],
   "source": []
  },
  {
   "cell_type": "code",
   "execution_count": null,
   "metadata": {},
   "outputs": [],
   "source": []
  },
  {
   "cell_type": "code",
   "execution_count": null,
   "metadata": {},
   "outputs": [],
   "source": []
  }
 ],
 "metadata": {
  "kernelspec": {
   "display_name": "Python 3",
   "language": "python",
   "name": "python3"
  },
  "language_info": {
   "codemirror_mode": {
    "name": "ipython",
    "version": 3
   },
   "file_extension": ".py",
   "mimetype": "text/x-python",
   "name": "python",
   "nbconvert_exporter": "python",
   "pygments_lexer": "ipython3",
   "version": "3.7.1"
  }
 },
 "nbformat": 4,
 "nbformat_minor": 4
}
